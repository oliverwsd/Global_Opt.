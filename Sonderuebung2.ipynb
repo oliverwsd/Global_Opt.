{
 "cells": [
  {
   "cell_type": "code",
   "execution_count": 1,
   "metadata": {},
   "outputs": [],
   "source": [
    "import numpy as np\n",
    "from scipy.optimize import minimize\n",
    "from scipy.optimize import minimize_scalar"
   ]
  },
  {
   "cell_type": "code",
   "execution_count": 10,
   "metadata": {},
   "outputs": [],
   "source": [
    "# S2.3 C) D)\n",
    "# Zielfunktion erstellen und Gradient von h(x) wiedergeben\n",
    "def h(x):\n",
    "    xtA = x.T@A\n",
    "    h = 0.5*(xtA@x) + b.T@x\n",
    "    return h\n",
    "def gradient(x,A,b):\n",
    "    return A@x + b"
   ]
  },
  {
   "cell_type": "code",
   "execution_count": 11,
   "metadata": {},
   "outputs": [],
   "source": [
    "# minimieren <g,y>\n",
    "def f(y):\n",
    "    global n\n",
    "    g = gradient(x,A,b)\n",
    "    sum = 0\n",
    "    for i in range(n):\n",
    "        sum = sum + g[i]*y[i]\n",
    "    return sum    \n",
    "    \n",
    "def g1(y):\n",
    "    result = np.array(alpha-max(np.abs(y)))\n",
    "    return result\n",
    "cons =({'type':'ineq','fun':g1})"
   ]
  },
  {
   "cell_type": "code",
   "execution_count": 12,
   "metadata": {},
   "outputs": [],
   "source": [
    "# minimieren h(x) mit richtiger Schrittweite t\n",
    "def func(t):\n",
    "    global n,alpha\n",
    "    #res = minimize(f,np.array([1,1,1]),constraints=cons,options={'disp':True})\n",
    "    res = minimize(f,np.ones((1,n)),constraints=cons)\n",
    "    Xt = t*x.T + (1-t)* res.x\n",
    "    XtA = Xt@A\n",
    "    h = 0.5*(XtA@Xt.T) + b.T@Xt.T\n",
    "    return h"
   ]
  },
  {
   "cell_type": "code",
   "execution_count": 13,
   "metadata": {},
   "outputs": [],
   "source": [
    "def FW(A,b,alpha,tol):\n",
    "    global n\n",
    "    global x\n",
    "    global res\n",
    "    global minh\n",
    "    res = minimize(f,np.ones((1,n)),constraints=cons)\n",
    "    minh = minimize_scalar(func,bounds=(0,1),method='bounded')\n",
    "    test = 1 - minh.x\n",
    "    while(test>tol):\n",
    "        new_x = minh.x*x.T + (1-minh.x)* res.x\n",
    "        x = new_x.T\n",
    "        res = minimize(f,np.ones((1,n)),constraints=cons)\n",
    "        minh = minimize_scalar(func,bounds=(0,1),method='bounded')\n",
    "        test=1-minh.x\n",
    "    return x"
   ]
  },
  {
   "cell_type": "code",
   "execution_count": 27,
   "metadata": {},
   "outputs": [
    {
     "data": {
      "text/plain": [
       "array([[-1.98423056],\n",
       "       [-1.52085972],\n",
       "       [ 2.0081454 ]])"
      ]
     },
     "execution_count": 27,
     "metadata": {},
     "output_type": "execute_result"
    }
   ],
   "source": [
    "# Matrix A erstellen \n",
    "A = np.array([[1,1.5,2],[1.5,2,2.5],[2,2.5,3]])\n",
    "# b erstellen\n",
    "b = np.array([[1],[1],[1]])\n",
    "# startpunkt erstellen\n",
    "x = np.array([[1],[1],[1]])\n",
    "# alpha = 2\n",
    "# toleranz = 10**-5\n",
    "n = 3\n",
    "alpha = 2\n",
    "FW(A,b,alpha,10**-5)"
   ]
  },
  {
   "cell_type": "code",
   "execution_count": 30,
   "metadata": {},
   "outputs": [
    {
     "name": "stdout",
     "output_type": "stream",
     "text": [
      "Optimization terminated successfully.    (Exit mode 0)\n",
      "            Current function value: -2.2500000000035456\n",
      "            Iterations: 8\n",
      "            Function evaluations: 41\n",
      "            Gradient evaluations: 8\n"
     ]
    }
   ],
   "source": [
    "# (-2,-1.5,2) ist die Minimalpunkt durch Frank-Wolfe Algorithmus\n",
    "# Dann vergleichen mit einem Standardsolver aus Scipy\n",
    "# S2.3 E)\n",
    "def g4(y,alpha=2):\n",
    "    result = np.array(alpha-abs(y[0]))\n",
    "    return result\n",
    "def g5(y,alpha=2):\n",
    "    result = np.array(alpha-abs(y[1]))\n",
    "    return result\n",
    "def g6(y,alpha=2):\n",
    "    result = np.array(alpha-abs(y[2]))\n",
    "    return result\n",
    "# Ungleichung g1 g2 g3   \n",
    "cons2 =({'type':'ineq','fun':g4},\n",
    "        {'type':'ineq','fun':g5},\n",
    "        {'type':'ineq','fun':g6})\n",
    "# Startpunkt fuer min h(x)\n",
    "x0 = np.zeros((1,3))\n",
    "res2 = minimize(h,x0.T,constraints=cons2,options={'disp':True})"
   ]
  },
  {
   "cell_type": "code",
   "execution_count": 31,
   "metadata": {},
   "outputs": [
    {
     "data": {
      "text/plain": [
       "array([-2.        , -1.49999999,  2.        ])"
      ]
     },
     "execution_count": 31,
     "metadata": {},
     "output_type": "execute_result"
    }
   ],
   "source": [
    "# Das Ergebnis ist auch (-2,-1.5,2)\n",
    "res2.x"
   ]
  },
  {
   "cell_type": "code",
   "execution_count": 55,
   "metadata": {},
   "outputs": [],
   "source": [
    "# S3.e\n",
    "n=1\n",
    "alpha= 1/(10*n)\n",
    "def g3(x):\n",
    "    global alpha\n",
    "    result = np.array(alpha-max(np.abs(x)))\n",
    "    return result\n",
    "cons3 =({'type':'ineq','fun':g3})"
   ]
  },
  {
   "cell_type": "code",
   "execution_count": 56,
   "metadata": {},
   "outputs": [],
   "source": [
    "# Berechnen die folgende Laufzeit von FW\n",
    "import time\n",
    "import math\n",
    "import matplotlib.pyplot as plt\n",
    "x_achse = []\n",
    "y_achse = []\n",
    "for n in range(1,15,1):\n",
    "    global A,b,x\n",
    "    A = np.random.random((n,n))\n",
    "    b = np.random.random((n,1))\n",
    "    x = np.zeros((n,1))\n",
    "    start = time.time()\n",
    "    FW(A,b,alpha,10**-5)\n",
    "    end = time.time()\n",
    "    t = end -start\n",
    "    x_achse.append(n)\n",
    "    y_achse.append(t)"
   ]
  },
  {
   "cell_type": "code",
   "execution_count": 57,
   "metadata": {},
   "outputs": [],
   "source": [
    "# Berechnen die folgende Laufzeit von Standardsolver aus Scipy\n",
    "x_achse1 = []\n",
    "y_achse1 = []\n",
    "for n in range (1,15,1):\n",
    "    global A,b,x\n",
    "    A = np.random.random((n,n))\n",
    "    b = np.random.random((n,1))\n",
    "    x = np.ones((n,1)) \n",
    "    x0 = np.zeros((1,n))\n",
    "    start = time.time()\n",
    "    res2 = minimize(h,x0.T,constraints=cons3)\n",
    "    end = time.time()\n",
    "    t = end - start\n",
    "    x_achse1.append(n)\n",
    "    y_achse1.append(t)   "
   ]
  },
  {
   "cell_type": "code",
   "execution_count": 58,
   "metadata": {},
   "outputs": [
    {
     "data": {
      "text/plain": [
       "<function matplotlib.pyplot.show(*args, **kw)>"
      ]
     },
     "execution_count": 58,
     "metadata": {},
     "output_type": "execute_result"
    },
    {
     "data": {
      "image/png": "[encoded data removed]",
      "text/plain": [
       "<Figure size 432x288 with 1 Axes>"
      ]
     },
     "metadata": {
      "needs_background": "light"
     },
     "output_type": "display_data"
    }
   ],
   "source": [
    "fig,ax =plt.subplots()\n",
    "ax.plot(x_achse,y_achse,label='FW',color='r')\n",
    "ax.plot(x_achse1,y_achse1,label='Scipy',color='b')\n",
    "plt.legend(loc='best')\n",
    "plt.grid(True)\n",
    "plt.show"
   ]
  }
 ],
 "metadata": {
  "kernelspec": {
   "display_name": "Python 3",
   "language": "python",
   "name": "python3"
  },
  "language_info": {
   "codemirror_mode": {
    "name": "ipython",
    "version": 3
   },
   "file_extension": ".py",
   "mimetype": "text/x-python",
   "name": "python",
   "nbconvert_exporter": "python",
   "pygments_lexer": "ipython3",
   "version": "3.7.3"
  }
 },
 "nbformat": 4,
 "nbformat_minor": 2
}
